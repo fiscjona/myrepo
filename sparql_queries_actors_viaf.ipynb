{
  "nbformat": 4,
  "nbformat_minor": 0,
  "metadata": {
    "colab": {
      "provenance": [],
      "authorship_tag": "ABX9TyPXVJZFYTyujxoi3H4kzpwa",
      "include_colab_link": true
    },
    "kernelspec": {
      "name": "python3",
      "display_name": "Python 3"
    },
    "language_info": {
      "name": "python"
    }
  },
  "cells": [
    {
      "cell_type": "markdown",
      "metadata": {
        "id": "view-in-github",
        "colab_type": "text"
      },
      "source": [
        "<a href=\"https://colab.research.google.com/github/fiscjona/myrepo/blob/main/sparql_queries_actors_viaf.ipynb\" target=\"_parent\"><img src=\"https://colab.research.google.com/assets/colab-badge.svg\" alt=\"Open In Colab\"/></a>"
      ]
    },
    {
      "cell_type": "code",
      "execution_count": 4,
      "metadata": {
        "colab": {
          "base_uri": "https://localhost:8080/"
        },
        "id": "DV_fFqhYeZ67",
        "outputId": "88421dc5-45d5-4add-89da-a030bff897ca"
      },
      "outputs": [
        {
          "output_type": "stream",
          "name": "stdout",
          "text": [
            "Collecting SPARQLWrapper\n",
            "  Downloading SPARQLWrapper-2.0.0-py3-none-any.whl.metadata (2.0 kB)\n",
            "Collecting rdflib>=6.1.1 (from SPARQLWrapper)\n",
            "  Downloading rdflib-7.1.3-py3-none-any.whl.metadata (11 kB)\n",
            "Requirement already satisfied: pyparsing<4,>=2.1.0 in /usr/local/lib/python3.11/dist-packages (from rdflib>=6.1.1->SPARQLWrapper) (3.2.1)\n",
            "Downloading SPARQLWrapper-2.0.0-py3-none-any.whl (28 kB)\n",
            "Downloading rdflib-7.1.3-py3-none-any.whl (564 kB)\n",
            "\u001b[2K   \u001b[90m━━━━━━━━━━━━━━━━━━━━━━━━━━━━━━━━━━━━━━━━\u001b[0m \u001b[32m564.9/564.9 kB\u001b[0m \u001b[31m10.2 MB/s\u001b[0m eta \u001b[36m0:00:00\u001b[0m\n",
            "\u001b[?25hInstalling collected packages: rdflib, SPARQLWrapper\n",
            "Successfully installed SPARQLWrapper-2.0.0 rdflib-7.1.3\n"
          ]
        }
      ],
      "source": [
        "!pip install SPARQLWrapper\n"
      ]
    },
    {
      "cell_type": "code",
      "source": [
        "import pandas as pd\n",
        "from SPARQLWrapper import SPARQLWrapper, JSON\n",
        "\n",
        "# Load the CSV file\n",
        "authors_df = pd.read_csv('missing_viaf.csv')\n",
        "\n",
        "# Initialize the SPARQL endpoint\n",
        "sparql = SPARQLWrapper(\"https://query.wikidata.org/sparql\")\n",
        "\n",
        "# Function to execute a SPARQL query and return results\n",
        "def execute_sparql_query(viaf_id):\n",
        "    query = f\"\"\"\n",
        "    SELECT ?author ?authorLabel ?viaf WHERE {{\n",
        "      VALUES ?givenViaf {{ \"{viaf_id}\" }}\n",
        "      ?author wdt:P214 ?givenViaf .\n",
        "      ?author wdt:P214 ?viaf .\n",
        "      SERVICE wikibase:label {{ bd:serviceParam wikibase:language \"[AUTO_LANGUAGE],en\". }}\n",
        "    }}\n",
        "    \"\"\"\n",
        "    sparql.setQuery(query)\n",
        "    sparql.setReturnFormat(JSON)\n",
        "    results = sparql.query().convert()\n",
        "    return results[\"results\"][\"bindings\"]\n",
        "\n",
        "# Iterate over each VIAF ID and execute the query\n",
        "all_viaf_results = []\n",
        "\n",
        "for index, row in authors_df.iterrows():\n",
        "    viaf_id = row['viaf_link_numeric']\n",
        "    results = execute_sparql_query(viaf_id)\n",
        "\n",
        "    # Check if results are not empty\n",
        "    if results:\n",
        "        for result in results:\n",
        "            viaf = result[\"viaf\"][\"value\"]\n",
        "            all_viaf_results.append({\"name_unified\": row['name_unified'], \"viaf\": viaf})\n",
        "    else:\n",
        "        # If no results, add the original VIAF ID with the author name\n",
        "        all_viaf_results.append({\"name_unified\": row['name_unified'], \"viaf\": str(viaf_id)})\n",
        "\n",
        "# Convert the results to a DataFrame\n",
        "results_df = pd.DataFrame(all_viaf_results)\n",
        "\n",
        "# Save the results to a new CSV file\n",
        "results_df.to_csv('all_possible_viaf_ids.csv', index=False)\n"
      ],
      "metadata": {
        "id": "uYp6-fJkCawz"
      },
      "execution_count": 5,
      "outputs": []
    }
  ]
}